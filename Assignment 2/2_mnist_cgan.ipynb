{
  "cells": [
    {
      "cell_type": "markdown",
      "metadata": {
        "id": "view-in-github",
        "colab_type": "text"
      },
      "source": [
        "<a href=\"https://colab.research.google.com/github/RostislavKorst/GANs-MIPT-2022-Masters/blob/main/Assignment%202/2_mnist_cgan.ipynb\" target=\"_parent\"><img src=\"https://colab.research.google.com/assets/colab-badge.svg\" alt=\"Open In Colab\"/></a>"
      ]
    },
    {
      "cell_type": "markdown",
      "source": [
        "# Generative Models\n",
        "***\n",
        "\n",
        "**MIPT, Autumn 2022, MSc course**\n"
      ],
      "metadata": {
        "collapsed": false,
        "id": "f4k1fxQDcr40"
      }
    },
    {
      "cell_type": "markdown",
      "source": [
        "## Assignment 2\n",
        "\n",
        "***\n",
        "\n",
        "\n",
        "*Authored by Arip Asadulaev & Manh Lab*\n",
        "\n",
        "*Adapted by Rostislav Korst*\n",
        "\n",
        "***\n"
      ],
      "metadata": {
        "collapsed": false,
        "id": "AovtMOK4cr41"
      }
    },
    {
      "cell_type": "markdown",
      "source": [
        "Let's continue our dive into the classical generative models! Today's goal is to implement Conditional GAN for MNIST dataset. Conditional image generation is the task of generating new images conditional on their class. Feel free to rewrite this skeleton or reuse your code from the previous assignment.\n",
        "\n",
        "Good luck!"
      ],
      "metadata": {
        "collapsed": false,
        "id": "6v6J6KGIcr42"
      }
    },
    {
      "cell_type": "markdown",
      "source": [
        "## 1. Conditional GAN\n",
        "*Source: <a href=\"https://arxiv.org/pdf/1411.1784.pdf\" target=\"_blank\">Mirza, Mehdi, and Simon Osindero. \"Conditional generative adversarial nets.\" arXiv preprint arXiv:1411.1784 (2014)</a>.*"
      ],
      "metadata": {
        "collapsed": false,
        "id": "TyY7AOWWcr43"
      }
    },
    {
      "cell_type": "markdown",
      "source": [
        "![cgan.png](data:image/png;base64,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)"
      ],
      "metadata": {
        "id": "yDZGxuSDebTT"
      }
    },
    {
      "cell_type": "markdown",
      "source": [
        "Picture source: https://medium.datadriveninvestor.com/an-introduction-to-conditional-gans-cgans-727d1f5bb011"
      ],
      "metadata": {
        "id": "fUDfy6sLe1wt"
      }
    },
    {
      "cell_type": "markdown",
      "metadata": {
        "id": "eLj6X3bVn3eT"
      },
      "source": [
        "### Imports"
      ]
    },
    {
      "cell_type": "code",
      "execution_count": null,
      "outputs": [],
      "source": [
        "import os\n",
        "\n",
        "import cv2\n",
        "import matplotlib.pyplot as plt\n",
        "import numpy as np\n",
        "import torch\n",
        "import torch.nn as nn\n",
        "import torch.nn.functional as F\n",
        "import torchvision\n",
        "from IPython.display import Image\n",
        "from torch.utils.data import DataLoader\n",
        "from torchvision.datasets import MNIST\n",
        "from torchvision.transforms import Compose, Normalize, ToTensor\n",
        "from torchvision.utils import save_image\n",
        "\n",
        "%matplotlib inline\n",
        "plt.style.use(\"ggplot\")"
      ],
      "metadata": {
        "id": "vhY6OCLYcr4_"
      }
    },
    {
      "cell_type": "markdown",
      "source": [
        "### Some parameters"
      ],
      "metadata": {
        "collapsed": false,
        "id": "1uBc--yZcr5C"
      }
    },
    {
      "cell_type": "code",
      "execution_count": null,
      "metadata": {
        "id": "nLFY9bjosRUf",
        "pycharm": {
          "is_executing": true
        }
      },
      "outputs": [],
      "source": [
        "hidden_size = 256\n",
        "batch_size = 100\n",
        "LR = 0.0002\n",
        "num_epochs = 300\n",
        "latent_size = 64  # input random input vector latent\n",
        "image_size = 784  # 28*28 flatten\n",
        "device = \"cuda\" if torch.cuda.is_available() else \"cpu\"\n",
        "number_class = 10\n",
        "\n",
        "if device == \"cuda\":\n",
        "    !nvidia-smi\n",
        "\n",
        "sample_dir = \"./images\"\n",
        "if not os.path.exists(sample_dir):\n",
        "    os.makedirs(sample_dir)"
      ]
    },
    {
      "cell_type": "markdown",
      "source": [
        "### Load dataset and create dataloader"
      ],
      "metadata": {
        "collapsed": false,
        "id": "oJhkew5Fcr5E"
      }
    },
    {
      "cell_type": "code",
      "execution_count": null,
      "outputs": [],
      "source": [
        "# Load MNIST dataset\n",
        "mnist = MNIST(root='data', \n",
        "              train=True, \n",
        "              download=True,\n",
        "              transform=Compose([ToTensor(), Normalize(mean=(0.5,), std=(0.5,))]))\n",
        "\n",
        "# dataloader = ..."
      ],
      "metadata": {
        "id": "aHOx88hDcr5F"
      }
    },
    {
      "cell_type": "code",
      "source": [
        "# plot pixels distribution\n",
        "img, label = mnist[0]\n",
        "print('Label: ', label)\n",
        "# Your code here"
      ],
      "metadata": {
        "id": "k70eD8o-gxYn",
        "outputId": "f294dc92-c495-4a87-ea75-2a3efe387941",
        "colab": {
          "base_uri": "https://localhost:8080/",
          "height": 404
        }
      },
      "execution_count": null,
      "outputs": [
        {
          "output_type": "stream",
          "name": "stdout",
          "text": [
            "Label:  5\n"
          ]
        },
        {
          "output_type": "execute_result",
          "data": {
            "text/plain": [
              "(array([631.,  11.,   8.,   5.,   8.,   4.,   3.,   7.,   5.,   6.,   9.,\n",
              "          8.,   6.,   5.,  68.]),\n",
              " array([-1.        , -0.8666667 , -0.73333335, -0.6       , -0.46666667,\n",
              "        -0.33333334, -0.2       , -0.06666667,  0.06666667,  0.2       ,\n",
              "         0.33333334,  0.46666667,  0.6       ,  0.73333335,  0.8666667 ,\n",
              "         1.        ], dtype=float32),\n",
              " <a list of 15 Patch objects>)"
            ]
          },
          "metadata": {},
          "execution_count": 5
        },
        {
          "output_type": "display_data",
          "data": {
            "text/plain": [
              "<Figure size 432x288 with 1 Axes>"
            ],
            "image/png": "[encoded data removed]"
          },
          "metadata": {}
        }
      ]
    },
    {
      "cell_type": "code",
      "execution_count": null,
      "metadata": {
        "id": "AJ99uFMbs0Tv"
      },
      "outputs": [],
      "source": [
        "# denormalization image from range (-1)-1 to range 0-1 to display it\n",
        "def denorm(x):\n",
        "    # Your code here"
      ]
    },
    {
      "cell_type": "code",
      "execution_count": null,
      "metadata": {
        "colab": {
          "base_uri": "https://localhost:8080/",
          "height": 282
        },
        "id": "u6Jk2l71s60n",
        "outputId": "106ae9e2-606e-43a0-871f-5502cb30d817"
      },
      "outputs": [
        {
          "name": "stdout",
          "output_type": "stream",
          "text": [
            "Label: 5\n"
          ]
        },
        {
          "data": {
            "image/png": "[encoded data removed]",
            "text/plain": [
              "<Figure size 432x288 with 1 Axes>"
            ]
          },
          "metadata": {},
          "output_type": "display_data"
        }
      ],
      "source": [
        "# Let's plot something\n",
        "img, label = mnist[0]\n",
        "print(\"Label: \", label)\n",
        "\n",
        "img_norm = denorm(img)\n",
        "plt.imshow(img_norm[0], cmap=\"gray\")\n",
        "print(\"Label:\", label)"
      ]
    },
    {
      "cell_type": "markdown",
      "source": [
        "### Define the models"
      ],
      "metadata": {
        "collapsed": false,
        "id": "FKPZLBWncr5I"
      }
    },
    {
      "cell_type": "markdown",
      "source": [
        "Define the Discriminator network, the Generator network with additional input for condition"
      ],
      "metadata": {
        "collapsed": false,
        "id": "bq0lh4uvcr5I"
      }
    },
    {
      "cell_type": "code",
      "execution_count": null,
      "metadata": {
        "id": "5mqLi2BcuqHh"
      },
      "outputs": [],
      "source": [
        "number_class = 10\n",
        "\n",
        "class Generator(nn.Module):\n",
        "    def __init__(self, ...): # pass number_class and use nn.Embedding here\n",
        "        # linear1 - relu - linear2 - relu - linear3 - tanh\n",
        "        super(Generator, self).__init__()\n",
        "\n",
        "            # Your code here!\n",
        "\n",
        "    def forward(self, x, label):\n",
        "        # concat label embedding with random latent vector\n",
        "\n",
        "            # Your code here!\n",
        "\n",
        "        return x\n",
        "\n",
        "\n",
        "class Discriminator(nn.Module):\n",
        "    def __init__(self, ...): # pass number_class and use nn.Embedding here\n",
        "        # linear1 - leaky_relu - linear2 - leaky_relu - linear3 - sigmoid\n",
        "        super(Discriminator, self).__init__()\n",
        "\n",
        "            # Your code here!\n",
        "\n",
        "    def forward(self, x, label):\n",
        "        # concat label embedding with input image\n",
        "\n",
        "            # Your code here!\n",
        "\n",
        "        return x"
      ]
    },
    {
      "cell_type": "markdown",
      "source": [
        "Answer the question: why the last layer of generator is $Tanh$ and the last discriminator layer is $Sigmoid$?"
      ],
      "metadata": {
        "id": "YEWe1jQtjO_a"
      }
    },
    {
      "cell_type": "code",
      "execution_count": null,
      "metadata": {
        "id": "3UmIcluuuspN"
      },
      "outputs": [],
      "source": [
        "# create new Generator model\n",
        "\n",
        "# G = Generator...\n",
        "\n",
        "# create new Discriminator model\n",
        "\n",
        "# D = Discriminator..."
      ]
    },
    {
      "cell_type": "code",
      "execution_count": null,
      "metadata": {
        "id": "NIbCDXeWU4me"
      },
      "outputs": [],
      "source": [
        "# define the criterion is nn.BCELoss()\n",
        "\n",
        "## Define the optimizer for generator and discrimator\n"
      ]
    },
    {
      "cell_type": "markdown",
      "metadata": {
        "id": "iSuQWvwfGIz1"
      },
      "source": [
        "### Discriminator Training"
      ]
    },
    {
      "cell_type": "code",
      "execution_count": null,
      "metadata": {
        "id": "QpDUg561u76k"
      },
      "outputs": [],
      "source": [
        "def reset_grad():\n",
        "    ## reset gradient for optimizer of generator and discrimator\n",
        "\n",
        "\n",
        "def train_discriminator(images, class):\n",
        "\n",
        "    # Loss for real images\n",
        "    real_labels = torch.ones(batch_size, 1).to(device)\n",
        "\n",
        "        # Your code here!\n",
        "\n",
        "    # Loss for fake images\n",
        "    z = torch.randn(batch_size, latent_size).to(device)\n",
        "    fake_labels = torch.zeros(batch_size, 1).to(device)\n",
        "\n",
        "        # Your code here!\n",
        "\n",
        "    # Combine losses\n",
        "    d_loss = d_loss_real + d_loss_fake\n",
        "\n",
        "        # Your code here!\n",
        "\n",
        "    # Reset gradients\n",
        "    reset_grad()\n",
        "\n",
        "    # Compute gradients\n",
        "\n",
        "        # Your code here!\n",
        "\n",
        "    # Adjust the parameters using backprop\n",
        "    d_optimizer.step()\n",
        "\n",
        "    return d_loss, real_score, fake_score"
      ]
    },
    {
      "cell_type": "markdown",
      "metadata": {
        "id": "Xozik5p6GPY-"
      },
      "source": [
        "### Generator Training"
      ]
    },
    {
      "cell_type": "code",
      "execution_count": null,
      "metadata": {
        "id": "W2ObcPjTvBgw"
      },
      "outputs": [],
      "source": [
        "def train_generator():\n",
        "    # Sample random vector\n",
        "    z = ...\n",
        "    gens_label = torch.randint(0, 9, (batch_size,1)).to(device)\n",
        "\n",
        "    # Generate fake images and calculate loss\n",
        "\n",
        "        # Your code here!\n",
        "\n",
        "    # Backprop and optimize\n",
        "    reset_grad()\n",
        "\n",
        "        # Your code here!\n",
        "\n",
        "    return g_loss, fake_images"
      ]
    },
    {
      "cell_type": "markdown",
      "metadata": {
        "id": "B6PjuMssQkkL"
      },
      "source": [
        "### Start the training proccess"
      ]
    },
    {
      "cell_type": "code",
      "execution_count": null,
      "metadata": {
        "id": "YJPoUoJzG8RC"
      },
      "outputs": [],
      "source": [
        "def save_fake_images(index):\n",
        "    # Sample random vector\n",
        "    sample_vectors = ...\n",
        "    gens_label = torch.randint(0, 9, (batch_size,1)).to(device)\n",
        "    # Generate images with Generator\n",
        "    fake_images = ...\n",
        "    fake_images = fake_images.reshape(fake_images.size(0), 1, 28, 28)\n",
        "    fake_fname = 'fake_images-{0:0=4d}.png'.format(index)\n",
        "    print('Saving', fake_fname)\n",
        "    save_image(denorm(fake_images), os.path.join(sample_dir, fake_fname), nrow=10)"
      ]
    },
    {
      "cell_type": "code",
      "execution_count": null,
      "metadata": {
        "id": "9jMuzvUtvD26",
        "pycharm": {
          "is_executing": true
        }
      },
      "outputs": [],
      "source": [
        "%%time\n",
        "total_step = len(data_loader)\n",
        "d_losses, g_losses, real_scores, fake_scores = [], [], [], []\n",
        "G.to(device)\n",
        "D.to(device)\n",
        "for epoch in range(num_epochs):\n",
        "    for i, (images, digit) in enumerate(data_loader):\n",
        "        # Load a batch & transform to vectors\n",
        "\n",
        "            # Your code here!\n",
        "\n",
        "        # Train the discriminator and generator\n",
        "\n",
        "            # Your code here!\n",
        "\n",
        "        # Inspect the losses\n",
        "        if (i + 1) % 200 == 0:\n",
        "            d_losses.append(d_loss.item())\n",
        "            g_losses.append(g_loss.item())\n",
        "            real_scores.append(real_score.mean().item())\n",
        "            fake_scores.append(fake_score.mean().item())\n",
        "            print(\n",
        "                \"Epoch [{}/{}], Step [{}/{}], d_loss: {:.4f}, g_loss: {:.4f}, D(x): {:.2f}, D(G(z)): {:.2f}\".format(\n",
        "                    epoch,\n",
        "                    num_epochs,\n",
        "                    i + 1,\n",
        "                    total_step,\n",
        "                    d_loss.item(),\n",
        "                    g_loss.item(),\n",
        "                    real_score.mean().item(),\n",
        "                    fake_score.mean().item(),\n",
        "                )\n",
        "            )\n",
        "    # Sample and save images\n",
        "    save_fake_images(epoch + 1)"
      ]
    },
    {
      "cell_type": "markdown",
      "source": [
        "### Show your conditional generation results for each class independently"
      ],
      "metadata": {
        "collapsed": false,
        "id": "qL4swm8Hcr5Q"
      }
    },
    {
      "cell_type": "code",
      "execution_count": null,
      "metadata": {
        "id": "hMubkbugcr5Q"
      },
      "outputs": [],
      "source": []
    }
  ],
  "metadata": {
    "accelerator": "GPU",
    "colab": {
      "collapsed_sections": [],
      "provenance": [],
      "include_colab_link": true
    },
    "kernelspec": {
      "display_name": "Python 3 (ipykernel)",
      "language": "python",
      "name": "python3"
    },
    "language_info": {
      "codemirror_mode": {
        "name": "ipython",
        "version": 3
      },
      "file_extension": ".py",
      "mimetype": "text/x-python",
      "name": "python",
      "nbconvert_exporter": "python",
      "pygments_lexer": "ipython3",
      "version": "3.9.7"
    }
  },
  "nbformat": 4,
  "nbformat_minor": 0
}